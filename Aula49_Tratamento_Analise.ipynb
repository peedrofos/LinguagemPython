{
 "cells": [
  {
   "cell_type": "code",
   "execution_count": 41,
   "metadata": {},
   "outputs": [
    {
     "name": "stdout",
     "output_type": "stream",
     "text": [
      "Os valores nulos por coluna:\n",
      "Nome                           0\n",
      "Departamento                   0\n",
      "Turno                          0\n",
      "Faltas                         0\n",
      "Dia_da_Semana_Ultima_Falta     0\n",
      "Data_Ultima_Falta              0\n",
      "Evadiu                        14\n",
      "dtype: int64\n",
      "\n",
      "Os tipos de formatos de dados de cada coluna:\n",
      "Nome                          object\n",
      "Departamento                  object\n",
      "Turno                         object\n",
      "Faltas                         int64\n",
      "Dia_da_Semana_Ultima_Falta    object\n",
      "Data_Ultima_Falta             object\n",
      "Evadiu                        object\n",
      "dtype: object\n",
      "\n",
      "Uma amostra das primeiras 10 linhas do dataset:\n",
      "              Nome Departamento  Turno  Faltas Dia_da_Semana_Ultima_Falta  \\\n",
      "0  Colaborador_001    Operações  Manhã      14                     Quarta   \n",
      "1  Colaborador_002    Operações  Manhã       1                    Segunda   \n",
      "2  Colaborador_003       Vendas  Manhã       3                    segunda   \n",
      "3  Colaborador_004    Marketing  manha       3                    Segunda   \n",
      "4  Colaborador_005           RH  manha       1                     Quarta   \n",
      "5  Colaborador_006           RH  manha       2                    segunda   \n",
      "6  Colaborador_007    Marketing  Manhã       1                    segunda   \n",
      "7  Colaborador_008    Operações  Manhã      11                      Terça   \n",
      "8  Colaborador_009   Financeiro  TARDE       2                    segunda   \n",
      "9  Colaborador_010           TI  manha       2                    segunda   \n",
      "\n",
      "  Data_Ultima_Falta Evadiu  \n",
      "0        18/01/2024    Sim  \n",
      "1        31/02/2024    Não  \n",
      "2        10/03/2024    Não  \n",
      "3        21/01/2024    Não  \n",
      "4        18/02/2024    Não  \n",
      "5        16/01/2024    Não  \n",
      "6        16/02/2024    Não  \n",
      "7        11/01/2024    Sim  \n",
      "8        21/01/2024    Não  \n",
      "9        18/03/2024    Não  \n"
     ]
    }
   ],
   "source": [
    "# Exercício 1 – Higienização Básica\n",
    "\n",
    "# Primeiro precisa ler o dataset\n",
    "import pandas as pd\n",
    "\n",
    "df = pd.read_excel('faltas_treinamento_sujo.xlsx')\n",
    "\n",
    "# a) Verifique valores nulos e tipos incorretos.\n",
    "# df.isnull() verifica de forma booleana se há valores nulos - True = valor nulo - False = valor não nulo\n",
    "# se acrescentar o .sum() ele traz a quantidade de valores nulos somados por categoria\n",
    "print(\"Os valores nulos por coluna:\")\n",
    "print(df.isnull().sum())\n",
    "print()\n",
    "print(\"Os tipos de formatos de dados de cada coluna:\")\n",
    "print(df.dtypes)\n",
    "print()\n",
    "print(\"Uma amostra das primeiras 10 linhas do dataset:\")\n",
    "print(df.head(10))"
   ]
  },
  {
   "cell_type": "code",
   "execution_count": 42,
   "metadata": {},
   "outputs": [
    {
     "name": "stdout",
     "output_type": "stream",
     "text": [
      "Linhas com datas inválidas (convertidas para NaT):\n",
      "                Nome Departamento  Turno  Faltas Dia_da_Semana_Ultima_Falta  \\\n",
      "1    Colaborador_002    Operações  Manhã       1                    Segunda   \n",
      "59   Colaborador_060           RH  Tarde       1                     Quarta   \n",
      "84   Colaborador_085    Marketing  manha       1                     Quinta   \n",
      "85   Colaborador_086           RH  Tarde       3                    segunda   \n",
      "135  Colaborador_136    Marketing  Tarde       2                     Quinta   \n",
      "138  Colaborador_139    Marketing  Manhã       1                     Quinta   \n",
      "143  Colaborador_144    Marketing  Tarde       1                    Segunda   \n",
      "165  Colaborador_166    Marketing  TARDE       4                     Quarta   \n",
      "174  Colaborador_175   Financeiro  TARDE       0                      Sexta   \n",
      "188  Colaborador_189           RH  manha       1                     Quarta   \n",
      "197  Colaborador_198    Operações  manha       1                    segunda   \n",
      "210  Colaborador_211           RH  Manhã       3                      Terça   \n",
      "\n",
      "    Data_Ultima_Falta Evadiu  \n",
      "1                 NaT    Não  \n",
      "59                NaT    Não  \n",
      "84                NaT    Não  \n",
      "85                NaT    NaN  \n",
      "135               NaT    Não  \n",
      "138               NaT    Não  \n",
      "143               NaT    Não  \n",
      "165               NaT    Não  \n",
      "174               NaT    Não  \n",
      "188               NaT    Não  \n",
      "197               NaT    NaN  \n",
      "210               NaT    Não  \n"
     ]
    }
   ],
   "source": [
    "# b) Corrija a coluna de datas inválidas.\n",
    "# Não estava dando certo a conversão, então pedi para que o pandas ignore os erros de preenchimento, por exemplo: \"32/02/2025\"\n",
    "df['Data_Ultima_Falta'] = pd.to_datetime(df['Data_Ultima_Falta'], errors='coerce', dayfirst=True)\n",
    "print(\"Linhas com datas inválidas (convertidas para NaT):\")\n",
    "print(df[df[\"Data_Ultima_Falta\"].isnull()])\n"
   ]
  },
  {
   "cell_type": "code",
   "execution_count": 43,
   "metadata": {},
   "outputs": [
    {
     "name": "stdout",
     "output_type": "stream",
     "text": [
      "0       Quarta-feira\n",
      "1      Segunda-feira\n",
      "2      Segunda-feira\n",
      "3      Segunda-feira\n",
      "4       Quarta-feira\n",
      "           ...      \n",
      "219    Segunda-feira\n",
      "220    Segunda-feira\n",
      "221    Segunda-feira\n",
      "222    Segunda-feira\n",
      "223     Quinta-feira\n",
      "Name: Dia_da_Semana_Ultima_Falta, Length: 224, dtype: object\n"
     ]
    }
   ],
   "source": [
    "# c) Normalize os nomes dos turnos e dias da semana.\n",
    "df['Turno'] = df['Turno'].str.lower()\n",
    "df['Dia_da_Semana_Ultima_Falta'] = df['Dia_da_Semana_Ultima_Falta'].str.lower() \n",
    "#print(df['Turno'])\n",
    "#print(df['Dia_da_Semana_Ultima_Falta'])\n",
    "\n",
    "df['Turno'] = df['Turno'].str.strip().str.title()\n",
    "df['Dia_da_Semana_Ultima_Falta'] = df['Dia_da_Semana_Ultima_Falta'].str.strip().str.title()\n",
    "#print(df['Turno'])\n",
    "#print(df['Dia_da_Semana_Ultima_Falta'])\n",
    "\n",
    "df['Dia_da_Semana_Ultima_Falta'] = df['Dia_da_Semana_Ultima_Falta'].replace({\n",
    "    'Segunda': 'Segunda-feira',\n",
    "    'Terça': 'Terça-feira',\n",
    "    'Quarta': 'Quarta-feira',\n",
    "    'Quinta': 'Quinta-feira',\n",
    "    'Sexta': 'Sexta-feira'\n",
    "})\n",
    "print(df['Dia_da_Semana_Ultima_Falta'])"
   ]
  },
  {
   "cell_type": "code",
   "execution_count": 44,
   "metadata": {},
   "outputs": [
    {
     "name": "stdout",
     "output_type": "stream",
     "text": [
      "Antes: 224 linhas\n",
      "Depois: 219 linhas\n"
     ]
    }
   ],
   "source": [
    "# Exercício 2 – Remoção e Substituição\n",
    "\n",
    "# a) Remova os registros duplicados.\n",
    "# o df.shape(0) é utlizado para contar quantos registros existem, então fiz antes e depois de aplicar o drop_duplicates()\n",
    "\n",
    "print(\"Antes:\", df.shape[0], \"linhas\")\n",
    "df = df.drop_duplicates()\n",
    "print(\"Depois:\", df.shape[0], \"linhas\")"
   ]
  },
  {
   "cell_type": "code",
   "execution_count": 45,
   "metadata": {},
   "outputs": [
    {
     "name": "stdout",
     "output_type": "stream",
     "text": [
      "Antes:\n",
      "13\n",
      "Depois:\n",
      "0\n"
     ]
    }
   ],
   "source": [
    "# b) Substitua os valores nulos da coluna Evadiu por “Desconhecido”.\n",
    "\n",
    "print(\"Antes:\")\n",
    "print(df['Evadiu'].isnull().sum())\n",
    "\n",
    "# fillna substitui os valores nulos na coluna por algo definido por você, como no caso: \"Desconhecido\"\n",
    "df['Evadiu'] = df['Evadiu'].fillna('Desconhecido')\n",
    "\n",
    "# A ideia é que depois ele traga valor\n",
    "print(\"Depois:\")\n",
    "print(df['Evadiu'].isnull().sum()) "
   ]
  },
  {
   "cell_type": "code",
   "execution_count": 46,
   "metadata": {},
   "outputs": [
    {
     "name": "stdout",
     "output_type": "stream",
     "text": [
      "Data mais comum: 2024-03-20 00:00:00\n"
     ]
    }
   ],
   "source": [
    "# c) Substitua os valores nulos da coluna Data_Ultima_Falta pela data mais comum.\n",
    "\n",
    "data_mais_comum = df['Data_Ultima_Falta'].mode()[0]\n",
    "print(\"Data mais comum:\", data_mais_comum)\n",
    "\n",
    "df['Data_Ultima_Falta'] = df['Data_Ultima_Falta'].fillna(data_mais_comum)"
   ]
  },
  {
   "cell_type": "code",
   "execution_count": 47,
   "metadata": {},
   "outputs": [
    {
     "name": "stdout",
     "output_type": "stream",
     "text": [
      "0      14\n",
      "1       1\n",
      "2       3\n",
      "3       3\n",
      "4       1\n",
      "       ..\n",
      "214     3\n",
      "215     1\n",
      "216     2\n",
      "217     1\n",
      "218     0\n",
      "Name: Faltas, Length: 219, dtype: Int64\n"
     ]
    }
   ],
   "source": [
    "# Exercício 3 – Correções e Detecção de Outliers\n",
    "\n",
    "# a) Converta a coluna Faltas para tipo inteiro.\n",
    "\n",
    "# Não coloquei direto o \"astype('int64') porque não sei se existem dados nulos, o errors='coerce\" limpa valores inválidos, transformando-os em NaN\n",
    "df['Faltas'] = pd.to_numeric(df['Faltas'], errors='coerce').astype('Int64')\n",
    "print(df['Faltas'])"
   ]
  },
  {
   "cell_type": "code",
   "execution_count": 48,
   "metadata": {},
   "outputs": [
    {
     "name": "stdout",
     "output_type": "stream",
     "text": [
      "                Nome Departamento  Turno  Faltas Dia_da_Semana_Ultima_Falta  \\\n",
      "0    Colaborador_001    Operações  Manhã       2               Quarta-feira   \n",
      "1    Colaborador_002    Operações  Manhã       1              Segunda-feira   \n",
      "2    Colaborador_003       Vendas  Manhã       3              Segunda-feira   \n",
      "3    Colaborador_004    Marketing  Manha       3              Segunda-feira   \n",
      "4    Colaborador_005           RH  Manha       1               Quarta-feira   \n",
      "..               ...          ...    ...     ...                        ...   \n",
      "214  Colaborador_215    Operações  Tarde       3              Segunda-feira   \n",
      "215  Colaborador_216    Operações  Manha       1              Segunda-feira   \n",
      "216  Colaborador_217   Financeiro  Tarde       2              Segunda-feira   \n",
      "217  Colaborador_218           RH  Tarde       1                Terça-feira   \n",
      "218  Colaborador_219   Financeiro  Manhã       0                Sexta-feira   \n",
      "\n",
      "    Data_Ultima_Falta Evadiu  \n",
      "0          2024-01-18    Sim  \n",
      "1          2024-03-20    Não  \n",
      "2          2024-03-10    Não  \n",
      "3          2024-01-21    Não  \n",
      "4          2024-02-18    Não  \n",
      "..                ...    ...  \n",
      "214        2024-02-09    Não  \n",
      "215        2024-03-28    Não  \n",
      "216        2024-01-24    Não  \n",
      "217        2024-02-07    Não  \n",
      "218        2024-02-18    Não  \n",
      "\n",
      "[219 rows x 7 columns]\n"
     ]
    }
   ],
   "source": [
    "# b) Substitua outliers de faltas por np.nan e depois pela mediana.\n",
    "\n",
    "import numpy as np\n",
    "\n",
    "# IQR (Intervalo Interquartil)\n",
    "Q1 = df['Faltas'].quantile(0.25)  # 1º quartil (25%) - É o valor abaixo do qual estão 25% dos dados\n",
    "Q3 = df['Faltas'].quantile(0.75)  # 3º quartil (75%) - É o valor abaixo do qual estão 75% dos dados.\n",
    "IQR = Q3 - Q1                     # Intervalo interquartil - Um menos o outro - faixa central dos dados (os 50% do meio)\n",
    "\n",
    "limite_inferior = Q1 - 1.5 * IQR # 1.5 é uma regra empírica estatística muito usada que faz parte do método IQR\n",
    "limite_superior = Q3 + 1.5 * IQR\n",
    "\n",
    "# Se o valor na coluna faltas for menos que o limite inferior OU maior que o limite superior, converta em np.nan (como um Ctrl U)\n",
    "df.loc[(df['Faltas'] < limite_inferior) | (df['Faltas'] > limite_superior), 'Faltas'] = np.nan\n",
    "\n",
    "mediana = df['Faltas'].median()\n",
    "df['Faltas'] = df['Faltas'].fillna(mediana)\n",
    "print(df)\n"
   ]
  },
  {
   "cell_type": "code",
   "execution_count": 49,
   "metadata": {},
   "outputs": [
    {
     "name": "stdout",
     "output_type": "stream",
     "text": [
      "Empty DataFrame\n",
      "Columns: [Nome, Departamento, Turno, Faltas, Dia_da_Semana_Ultima_Falta, Data_Ultima_Falta, Evadiu, Faltas_Suspeitas]\n",
      "Index: []\n",
      "Total de faltas suspeitas: 0\n",
      "0      False\n",
      "1      False\n",
      "2      False\n",
      "3      False\n",
      "4      False\n",
      "       ...  \n",
      "214    False\n",
      "215    False\n",
      "216    False\n",
      "217    False\n",
      "218    False\n",
      "Name: Faltas, Length: 219, dtype: boolean\n"
     ]
    }
   ],
   "source": [
    "# c) Crie um flag “Faltas_Suspeitas” para valores > 10.\n",
    "\n",
    "df['Faltas_Suspeitas'] = df['Faltas'] > 10\n",
    "print(df[df['Faltas_Suspeitas']])\n",
    "print(\"Total de faltas suspeitas:\", df['Faltas_Suspeitas'].sum())\n",
    "\n",
    "# Ele apresentará tudo \"False\" pois ao realizar a limpeza dos outliers, o código removeu todos os valores de faltas acima de 10\n",
    "print(df['Faltas'] > 10)"
   ]
  },
  {
   "cell_type": "code",
   "execution_count": 50,
   "metadata": {},
   "outputs": [
    {
     "name": "stdout",
     "output_type": "stream",
     "text": [
      "Total de evasões por departamento:\n",
      "Departamento\n",
      "Marketing     6\n",
      "Operações     4\n",
      "Financeiro    4\n",
      "Vendas        3\n",
      "RH            3\n",
      "TI            1\n",
      "Name: count, dtype: int64\n"
     ]
    },
    {
     "data": {
      "image/png": "[encoded data removed]",
      "text/plain": [
       "<Figure size 800x400 with 1 Axes>"
      ]
     },
     "metadata": {},
     "output_type": "display_data"
    }
   ],
   "source": [
    "# Exercício 4 – Análise Descritiva Avançada\n",
    "\n",
    "# a) Qual o número total de evasões por departamento?\n",
    "\n",
    "evasao = df[df['Evadiu'] == 'Sim']\n",
    "#print(evasao)\n",
    "# Podemos usar o value_couts() ou o grupby() que já vi em outros exercícios\n",
    "evasoes_por_departamento = evasao['Departamento'].value_counts()\n",
    "\n",
    "print(\"Total de evasões por departamento:\")\n",
    "print(evasoes_por_departamento)\n",
    "\n",
    "# Observa-se que o departamento de marketing é responsável pela maior parte das evasões\n",
    "import matplotlib.pyplot as plt\n",
    "evasoes_por_departamento.plot(kind='bar', figsize=(8, 4), title='Evasões por Departamento')\n",
    "plt.xlabel('Número de Evasões')\n",
    "plt.xticks(rotation=1)\n",
    "plt.ylabel('Departamento')\n",
    "plt.tight_layout()\n",
    "plt.show()"
   ]
  },
  {
   "cell_type": "code",
   "execution_count": 51,
   "metadata": {},
   "outputs": [
    {
     "name": "stdout",
     "output_type": "stream",
     "text": [
      "Percentual de evasão no turno da tarde: 8.85%\n"
     ]
    }
   ],
   "source": [
    "# b) Qual é o percentual de evasão considerando apenas os que participaram do turno da tarde?\n",
    "\n",
    "# Filtra só que é do turno da tarde\n",
    "tarde = df[df['Turno'] == 'Tarde']\n",
    "# Faz a contagem de elementos que ele encontrou (len)\n",
    "total_tarde = len(tarde)\n",
    "#print(total_tarde)\n",
    "\n",
    "# Aqui filtra o turno tarde e que também tenha \"Sim\" na coluna \"Evadiu\"\n",
    "evasao_tarde = tarde[tarde['Evadiu'] == 'Sim']\n",
    "# Conta quantos elementos satisfazem a condição acima\n",
    "total_evasao_tarde = len(evasao_tarde)\n",
    "#print(total_evasao_tarde)\n",
    "\n",
    "# Percentual é a contagem do total de alunos da tarde que evadiram, dividido pelo total de evasão vezes cem\n",
    "percentual = round((total_evasao_tarde / total_tarde) * 100, 2)\n",
    "print(f\"Percentual de evasão no turno da tarde: {percentual}%\")\n"
   ]
  },
  {
   "cell_type": "code",
   "execution_count": 53,
   "metadata": {},
   "outputs": [
    {
     "name": "stdout",
     "output_type": "stream",
     "text": [
      "O desvio padrão das faltas dos alunos agrupadas por turno:\n",
      "Turno\n",
      "M    1.376872\n",
      "T    1.430269\n",
      "Name: Faltas, dtype: Float64\n"
     ]
    }
   ],
   "source": [
    "# c) Qual é o desvio padrão de faltas por turno?\n",
    "# mede o quanto os valores variam em relação à média, então, se o desvio for alto, \n",
    "# significa que as pessoas tiveram qtd de faltas bem diferentes.\n",
    "\n",
    "desvio_padrao_por_turno = df.groupby('Turno')['Faltas'].std()\n",
    "\n",
    "print(\"O desvio padrão das faltas dos alunos agrupadas por turno:\")\n",
    "#print(desvio_padrao_por_turno)\n",
    "\n",
    "# Ao imprimir, percebi que existia duas formas de turno \"Manha e Manhã, então vou fazer um replace para corrigir\"\n",
    "\n",
    "# Antes de converter, vou deixar tudo em minúsculo para ter certeza que estarão iguais para a conversão\n",
    "df['Turno'] = df['Turno'].astype(str).str.strip().str.lower()\n",
    "df['Turno'] = df['Turno'].replace({\n",
    "    'Manha': 'M',\n",
    "    'Manhã': 'M',\n",
    "    'Tarde': 'T'\n",
    "})\n",
    "\n",
    "print(desvio_padrao_por_turno)"
   ]
  },
  {
   "cell_type": "code",
   "execution_count": 56,
   "metadata": {},
   "outputs": [
    {
     "name": "stdout",
     "output_type": "stream",
     "text": [
      "O Mês com maior número de faltas foi: 2024-03 (161 faltas)\n"
     ]
    },
    {
     "data": {
      "image/png": "[encoded data removed]",
      "text/plain": [
       "<Figure size 800x400 with 1 Axes>"
      ]
     },
     "metadata": {},
     "output_type": "display_data"
    }
   ],
   "source": [
    "# Exercício 5 – Análise Temporal\n",
    "\n",
    "# a) Em qual mês ocorreu o maior número de faltas?\n",
    "\n",
    "# Converto para pd.to_datetime a coluna que desejo, ignoro possíveis erros de preenchimento com errors='coerce',\n",
    "# Por exemplo, no caso da pessoa digitar 32/02/2025, e por último dayfirst=True, para minha data iniciar pelo dia.\n",
    "\n",
    "df['Data_Ultima_Falta'] = pd.to_datetime(df['Data_Ultima_Falta'], errors='coerce', dayfirst=True)\n",
    "\n",
    "# Criar uma coluna para extrair o ano e o mês de nossas células pd.to_datetime e selecionar o período dt.to_period('M')\n",
    "# Ao final eu transformei o resultado em astype(str) porque ele é melhor para fazer agrupamento\n",
    "df['AnoMes'] = df['Data_Ultima_Falta'].dt.to_period('M').astype(str)\n",
    "\n",
    "# Aqui vou agrupar (groupby()) a soma de faltas (sum()) por mês na coluna criada\n",
    "faltas_por_mes = df.groupby('AnoMes')['Faltas'].sum()\n",
    "\n",
    "# Aqui ele retornará o índice do mês com maior número de faltas\n",
    "mes_mais_faltas = faltas_por_mes.idxmax()\n",
    "# Aqui ele retornará qual foi a soma de faltas do maior mês\n",
    "total_mais_faltas = faltas_por_mes.max()\n",
    "\n",
    "print(f\"O Mês com maior número de faltas foi: {mes_mais_faltas} ({total_mais_faltas} faltas)\")\n",
    "\n",
    "faltas_por_mes.plot(kind='barh', title='Total de Faltas por Mês', figsize=(8, 4))\n",
    "plt.xlabel('Ano/Mês')\n",
    "plt.ylabel('Total de Faltas')\n",
    "plt.xticks(rotation=45)\n",
    "plt.tight_layout()\n",
    "plt.show()\n",
    "\n",
    "\n"
   ]
  },
  {
   "cell_type": "code",
   "execution_count": 64,
   "metadata": {},
   "outputs": [
    {
     "name": "stdout",
     "output_type": "stream",
     "text": [
      "A Semana com maior número de faltas foi a semana: 12 (com 57 faltas)\n",
      "\n"
     ]
    },
    {
     "data": {
      "image/png": "[encoded data removed]",
      "text/plain": [
       "<Figure size 1000x400 with 1 Axes>"
      ]
     },
     "metadata": {},
     "output_type": "display_data"
    }
   ],
   "source": [
    "# b) Crie uma coluna Semana_Ultima_Falta e descubra qual semana teve maior concentração de ausências.\n",
    "\n",
    "df['Data_Ultima_Falta'] = pd.to_datetime(df['Data_Ultima_Falta'], errors='coerce', dayfirst=True)\n",
    "\n",
    "# Aqui eu crio uma coluna para apurar a semana da última falta e aplico dt.isocalendar().week\n",
    "# Ele serve para mostrar o número da semana numa escala ISO do ano (de 1 a 53 semanas)\n",
    "df['Semana_Ultima_Falta'] = df['Data_Ultima_Falta'].dt.isocalendar().week\n",
    "\n",
    "# Aqui mais uma vez usamos groupby para juntar a soma de faltas em cada semana, conforme extraímos na linha acima\n",
    "faltas_por_semana = df.groupby('Semana_Ultima_Falta')['Faltas'].sum()\n",
    "#print(faltas_por_semana)\n",
    "\n",
    "# Aqui ele retornará o índice da semana com maior número de faltas (1, 2, 3, etc)\n",
    "semana_mais_faltas = faltas_por_semana.idxmax()\n",
    "# Aqui ele retornará o número de faltas do maior índice de semana (qtd faltas)\n",
    "total_mais_faltas = faltas_por_semana.max()\n",
    "\n",
    "print(f\"A Semana com maior número de faltas foi a semana: {semana_mais_faltas} (com {total_mais_faltas} faltas)\")\n",
    "print()\n",
    "\n",
    "cor = 'blue'\n",
    "faltas_por_semana.plot(kind='bar', figsize=(10, 4), title='Faltas por Semana do Ano', color=cor)\n",
    "plt.xlabel('Semana do Ano')\n",
    "plt.ylabel('Total de Faltas')\n",
    "plt.tight_layout()\n",
    "plt.show()"
   ]
  },
  {
   "cell_type": "code",
   "execution_count": 67,
   "metadata": {},
   "outputs": [
    {
     "name": "stdout",
     "output_type": "stream",
     "text": [
      "Número de Evasões por dia da semana:\n",
      "Dia_da_Semana_Ultima_Falta\n",
      "Segunda-feira    2\n",
      "Terça-feira      2\n",
      "Quarta-feira     4\n",
      "Quinta-feira     4\n",
      "Sexta-feira      3\n",
      "Sábado           3\n",
      "Domingo          3\n",
      "Name: count, dtype: int64\n"
     ]
    }
   ],
   "source": [
    "# c) Faça uma análise cruzando dia da semana e quantidade de evasões.\n",
    "\n",
    "# Minha coluna de dia da semana da última falta estava em formato data (dd/mm/aaaa), \n",
    "# então criei outra para extrair o dia (\"Segunda-feira\", etc). Para isso usei dt.day_name(locale='pt_BR') e precisei especificar \n",
    "# que queria em Português Brasileiro (locale='pt_BR')\n",
    "\n",
    "df['Dia_da_Semana_Ultima_Falta'] = df['Data_Ultima_Falta'].dt.day_name(locale='pt_BR')\n",
    "#print(df)\n",
    "\n",
    "# Filtrei apenas onde a coluna \"evadiu\" consta \"Sim\"\n",
    "evasao = df[df['Evadiu'] == 'Sim']\n",
    "# value_counts() é como se fosse o contse do excel. E o sort_index() coloca os itens em ordem alfabética.\n",
    "evasoes_por_dia = evasao['Dia_da_Semana_Ultima_Falta'].value_counts().sort_index()\n",
    "\n",
    "#print(\"Número de Evasões por dia da semana:\")\n",
    "# Não curti muito, então acho melhor ordenar de \"Segunda a Sexta\"\n",
    "#print(evasoes_por_dia)\n",
    "\n",
    "ordem_dias = ['Segunda-feira', 'Terça-feira', 'Quarta-feira', 'Quinta-feira', 'Sexta-feira', 'Sábado', 'Domingo']\n",
    "# Aqui eu criei uma variável que recebe a ordem que eu quero e uso reindex para que ele respeite essa ordem.\n",
    "evasoes_por_dia = evasoes_por_dia.reindex(ordem_dias)\n",
    "\n",
    "print(\"Número de Evasões por dia da semana:\")\n",
    "print(evasoes_por_dia)\n",
    "\n"
   ]
  },
  {
   "cell_type": "code",
   "execution_count": 70,
   "metadata": {},
   "outputs": [
    {
     "name": "stdout",
     "output_type": "stream",
     "text": [
      "   Faltas Risco_Evasao\n",
      "0       2        Baixo\n",
      "1       1        Baixo\n",
      "2       3     Moderado\n",
      "3       3     Moderado\n",
      "4       1        Baixo\n",
      "5       2        Baixo\n",
      "6       1        Baixo\n",
      "7       2        Baixo\n",
      "8       2        Baixo\n",
      "9       2        Baixo\n",
      "\n",
      "Risco_Evasao\n",
      "Baixo       156\n",
      "Moderado     62\n",
      "Alto          1\n",
      "Name: count, dtype: int64\n"
     ]
    }
   ],
   "source": [
    "# Exercício 6 – Análise de Risco\n",
    "\n",
    "# a) Crie a coluna Risco_Evasao com três categorias: 'Alto', 'Moderado', 'Baixo'.\n",
    "\n",
    "def classificar_risco(faltas):\n",
    "    if faltas >= 6:\n",
    "        return 'Alto'\n",
    "    elif faltas >= 3:\n",
    "        return 'Moderado'\n",
    "    else:\n",
    "        return 'Baixo'\n",
    "\n",
    "# O apply executa a função de classificação linha por linha\n",
    "df['Risco_Evasao'] = df['Faltas'].apply(classificar_risco)\n",
    "\n",
    "# Aqui escolho imprimir apenas as colunas \"Faltas e Risco_Evasão que criamos acima\"\n",
    "print(df[['Faltas', 'Risco_Evasao']].head(10))\n",
    "# Aqui uso o value_counts() para somar a quantidade de pessoas de acordo com o risco de evasão\n",
    "print()\n",
    "print(df['Risco_Evasao'].value_counts())\n",
    "\n"
   ]
  },
  {
   "cell_type": "code",
   "execution_count": 73,
   "metadata": {},
   "outputs": [
    {
     "name": "stdout",
     "output_type": "stream",
     "text": [
      "   Departamento Risco_Evasao  Total  Percentual\n",
      "0    Financeiro        Baixo     26       74.29\n",
      "1    Financeiro     Moderado      9       25.71\n",
      "2     Marketing        Baixo     30       73.17\n",
      "3     Marketing     Moderado     11       26.83\n",
      "4     Operações        Baixo     39       75.00\n",
      "5     Operações     Moderado     13       25.00\n",
      "6            RH        Baixo     21       67.74\n",
      "7            RH     Moderado     10       32.26\n",
      "8            TI        Baixo     20       66.67\n",
      "9            TI     Moderado     10       33.33\n",
      "10       Vendas         Alto      1        3.33\n",
      "11       Vendas        Baixo     20       66.67\n",
      "12       Vendas     Moderado      9       30.00\n",
      "\n"
     ]
    }
   ],
   "source": [
    "# b) Gere uma tabela com a distribuição percentual de risco por departamento.\n",
    "\n",
    "# O groupby() agrupa as informações de todos os departamentos mais o tamanho (size) do risco de evasão\n",
    "# Enquanto o reset_index muda o nome do cabeçalho para \"total\"\n",
    "contagem = df.groupby(['Departamento', 'Risco_Evasao']).size().reset_index(name='Total')\n",
    "\n",
    "# Aqui agrupamos apenas os departamentos separados, trazendo a soma (sum)\n",
    "total_por_departamento = contagem.groupby('Departamento')['Total'].transform('sum')\n",
    "\n",
    "# Para calcular a porcentagem e definir apenas duas casas depois da vírgula\n",
    "contagem['Percentual'] = round((contagem['Total'] / total_por_departamento) * 100, 2)\n",
    "\n",
    "print(contagem)\n",
    "print()"
   ]
  },
  {
   "cell_type": "code",
   "execution_count": 81,
   "metadata": {},
   "outputs": [
    {
     "name": "stdout",
     "output_type": "stream",
     "text": [
      "O Percentual de risco alto por turno:\n",
      "Turno\n",
      "m    100.0\n",
      "Name: proportion, dtype: float64\n",
      "\n",
      "De acordo com os dados, a maior incidência de risco de evasão ocorre no período da manhã,\n",
      "onde se concentram 100% dos classificados com risco alto.\n"
     ]
    }
   ],
   "source": [
    "# c) Há relação entre risco alto e turno da tarde?\n",
    "\n",
    "# Vamos filtrar os dados classificados como risco 'Alto'\n",
    "risco_alto = df[df['Risco_Evasao'] == 'Alto']\n",
    "# Em seguida contamos os valores com risco alto, só que por turno e converte em porcentagem\n",
    "distribuicao_alto = risco_alto['Turno'].value_counts(normalize=True) * 100\n",
    "\n",
    "print(\"O Percentual de risco alto por turno:\")\n",
    "print(distribuicao_alto.round(2))\n",
    "print()\n",
    "print(\"De acordo com os dados, a maior incidência de risco de evasão ocorre no período da manhã,\") \n",
    "print(\"onde se concentram 100% dos classificados com risco alto.\")\n"
   ]
  },
  {
   "cell_type": "code",
   "execution_count": 86,
   "metadata": {},
   "outputs": [
    {
     "name": "stdout",
     "output_type": "stream",
     "text": [
      "Constata-se que o setor de operações é o que apresenta o maior absenteísmo, enquanto a área de TI tem o menor.\n"
     ]
    },
    {
     "data": {
      "image/png": "[encoded data removed]",
      "text/plain": [
       "<Figure size 800x500 with 1 Axes>"
      ]
     },
     "metadata": {},
     "output_type": "display_data"
    }
   ],
   "source": [
    "# Exercício 7 – Visualizações Estratégicas\n",
    "\n",
    "# a) Gráfico de barras: número de faltas por departamento.\n",
    "\n",
    "faltas_departamento = df.groupby('Departamento')['Faltas'].sum().sort_values(ascending=False)\n",
    "\n",
    "import matplotlib.pyplot as plt\n",
    "\n",
    "faltas_departamento.plot(kind='bar', figsize=(8, 5), color='brown')\n",
    "print(\"Constata-se que o setor de operações é o que apresenta o maior absenteísmo, enquanto a área de TI tem o menor.\")\n",
    "plt.title('Total de Faltas por Departamento')\n",
    "plt.xlabel('Departamento')\n",
    "plt.ylabel('Total de Faltas')\n",
    "plt.xticks(rotation=1)\n",
    "plt.tight_layout()\n",
    "plt.show()"
   ]
  },
  {
   "cell_type": "code",
   "execution_count": 90,
   "metadata": {},
   "outputs": [
    {
     "data": {
      "image/png": "[encoded data removed]",
      "text/plain": [
       "<Figure size 600x600 with 1 Axes>"
      ]
     },
     "metadata": {},
     "output_type": "display_data"
    }
   ],
   "source": [
    "# b) Gráfico de pizza: distribuição de risco de evasão.\n",
    "\n",
    "import matplotlib.pyplot as plt\n",
    "\n",
    "distribuicao_risco = df['Risco_Evasao'].value_counts()\n",
    "\n",
    "distribuicao_risco.plot(\n",
    "    kind='pie',\n",
    "    # Usei para apresentar apenas 1 casa depois da vírgula\n",
    "    autopct='%1.1f%%',\n",
    "    startangle=90,\n",
    "    figsize=(6, 6),\n",
    "    colors=['red','blue','yellow']\n",
    ")\n",
    "\n",
    "plt.title('Distribuição de Risco de Evasão')\n",
    "plt.ylabel('')\n",
    "plt.tight_layout()\n",
    "plt.show()"
   ]
  },
  {
   "cell_type": "code",
   "execution_count": 92,
   "metadata": {},
   "outputs": [
    {
     "data": {
      "image/png": "[encoded data removed]",
      "text/plain": [
       "<Figure size 800x500 with 2 Axes>"
      ]
     },
     "metadata": {},
     "output_type": "display_data"
    }
   ],
   "source": [
    "# c) Heatmap cruzando Turno e Risco_Evasao. Um gráfico de escala de cores\n",
    "\n",
    "# Usei o comando pd.crosstab para criar uma tabela cruzada.\n",
    "# É uma tabela de dupla entrada, que cruza duas variáveis categóricas e mostra quantas vezes cada combinação entre elas ocorre.\n",
    "\n",
    "# Normalize index é o que faz com que o total seja de 100%\n",
    "tabela = pd.crosstab(df['Turno'], df['Risco_Evasao'], normalize='index') * 100\n",
    "\n",
    "# Essa biblioteca seaborn é voltada para gráficos estatísticos\n",
    "import seaborn as sns\n",
    "import matplotlib.pyplot as plt\n",
    "\n",
    "plt.figure(figsize=(8, 5))\n",
    "sns.heatmap(\n",
    "    tabela,\n",
    "    annot=True,           # mostra os valores nas células = True\n",
    "    fmt=\".1f\",            # com 1 casa decimal\n",
    "    cmap=\"YlOrRd\",        # esse código traz uma paleta de cores pré existente\n",
    "    cbar_kws={'label': 'Percentual (%)'}  # faz uma legenda lateral da escala de cores\n",
    ")\n",
    "\n",
    "plt.title('Risco de Evasão por Turno')\n",
    "plt.xlabel('Risco de Evasão')\n",
    "plt.ylabel('Turno')\n",
    "plt.tight_layout()\n",
    "plt.show()\n",
    "\n",
    "\n",
    "\n"
   ]
  }
 ],
 "metadata": {
  "kernelspec": {
   "display_name": "Python 3",
   "language": "python",
   "name": "python3"
  },
  "language_info": {
   "codemirror_mode": {
    "name": "ipython",
    "version": 3
   },
   "file_extension": ".py",
   "mimetype": "text/x-python",
   "name": "python",
   "nbconvert_exporter": "python",
   "pygments_lexer": "ipython3",
   "version": "3.12.1"
  }
 },
 "nbformat": 4,
 "nbformat_minor": 2
}
