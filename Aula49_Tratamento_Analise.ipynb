{
 "cells": [
  {
   "cell_type": "code",
   "execution_count": 12,
   "metadata": {},
   "outputs": [
    {
     "name": "stdout",
     "output_type": "stream",
     "text": [
      "Os valores nulos por coluna:\n",
      "Nome                           0\n",
      "Departamento                   0\n",
      "Turno                          0\n",
      "Faltas                         0\n",
      "Dia_da_Semana_Ultima_Falta     0\n",
      "Data_Ultima_Falta              0\n",
      "Evadiu                        14\n",
      "dtype: int64\n",
      "\n",
      "Os tipos de formatos de dados de cada coluna:\n",
      "Nome                          object\n",
      "Departamento                  object\n",
      "Turno                         object\n",
      "Faltas                         int64\n",
      "Dia_da_Semana_Ultima_Falta    object\n",
      "Data_Ultima_Falta             object\n",
      "Evadiu                        object\n",
      "dtype: object\n",
      "\n",
      "Uma amostra das primeiras 10 linhas do dataset:\n",
      "              Nome Departamento  Turno  Faltas Dia_da_Semana_Ultima_Falta  \\\n",
      "0  Colaborador_001    Operações  Manhã      14                     Quarta   \n",
      "1  Colaborador_002    Operações  Manhã       1                    Segunda   \n",
      "2  Colaborador_003       Vendas  Manhã       3                    segunda   \n",
      "3  Colaborador_004    Marketing  manha       3                    Segunda   \n",
      "4  Colaborador_005           RH  manha       1                     Quarta   \n",
      "5  Colaborador_006           RH  manha       2                    segunda   \n",
      "6  Colaborador_007    Marketing  Manhã       1                    segunda   \n",
      "7  Colaborador_008    Operações  Manhã      11                      Terça   \n",
      "8  Colaborador_009   Financeiro  TARDE       2                    segunda   \n",
      "9  Colaborador_010           TI  manha       2                    segunda   \n",
      "\n",
      "  Data_Ultima_Falta Evadiu  \n",
      "0        18/01/2024    Sim  \n",
      "1        31/02/2024    Não  \n",
      "2        10/03/2024    Não  \n",
      "3        21/01/2024    Não  \n",
      "4        18/02/2024    Não  \n",
      "5        16/01/2024    Não  \n",
      "6        16/02/2024    Não  \n",
      "7        11/01/2024    Sim  \n",
      "8        21/01/2024    Não  \n",
      "9        18/03/2024    Não  \n"
     ]
    }
   ],
   "source": [
    "# Exercício 1 – Higienização Básica\n",
    "\n",
    "# Primeiro precisa ler o dataset\n",
    "import pandas as pd\n",
    "\n",
    "df = pd.read_excel('faltas_treinamento_sujo.xlsx')\n",
    "\n",
    "# a) Verifique valores nulos e tipos incorretos.\n",
    "# df.isnull() verifica de forma booleana se há valores nulos - True = valor nulo - False = valor não nulo\n",
    "# se acrescentar o .sum() ele traz a quantidade de valores nulos somados por categoria\n",
    "print(\"Os valores nulos por coluna:\")\n",
    "print(df.isnull().sum())\n",
    "print()\n",
    "print(\"Os tipos de formatos de dados de cada coluna:\")\n",
    "print(df.dtypes)\n",
    "print()\n",
    "print(\"Uma amostra das primeiras 10 linhas do dataset:\")\n",
    "print(df.head(10))"
   ]
  },
  {
   "cell_type": "code",
   "execution_count": 21,
   "metadata": {},
   "outputs": [
    {
     "name": "stdout",
     "output_type": "stream",
     "text": [
      "Linhas com datas inválidas (convertidas para NaT):\n",
      "                Nome Departamento  Turno  Faltas Dia_da_Semana_Ultima_Falta  \\\n",
      "1    Colaborador_002    Operações  Manhã       1                    Segunda   \n",
      "59   Colaborador_060           RH  Tarde       1                     Quarta   \n",
      "84   Colaborador_085    Marketing  manha       1                     Quinta   \n",
      "85   Colaborador_086           RH  Tarde       3                    segunda   \n",
      "135  Colaborador_136    Marketing  Tarde       2                     Quinta   \n",
      "138  Colaborador_139    Marketing  Manhã       1                     Quinta   \n",
      "143  Colaborador_144    Marketing  Tarde       1                    Segunda   \n",
      "165  Colaborador_166    Marketing  TARDE       4                     Quarta   \n",
      "174  Colaborador_175   Financeiro  TARDE       0                      Sexta   \n",
      "188  Colaborador_189           RH  manha       1                     Quarta   \n",
      "197  Colaborador_198    Operações  manha       1                    segunda   \n",
      "210  Colaborador_211           RH  Manhã       3                      Terça   \n",
      "\n",
      "    Data_Ultima_Falta Evadiu  \n",
      "1                 NaT    Não  \n",
      "59                NaT    Não  \n",
      "84                NaT    Não  \n",
      "85                NaT    NaN  \n",
      "135               NaT    Não  \n",
      "138               NaT    Não  \n",
      "143               NaT    Não  \n",
      "165               NaT    Não  \n",
      "174               NaT    Não  \n",
      "188               NaT    Não  \n",
      "197               NaT    NaN  \n",
      "210               NaT    Não  \n"
     ]
    }
   ],
   "source": [
    "# b) Corrija a coluna de datas inválidas.\n",
    "# Não estava dando certo a conversão, então pedi para que o pandas ignore os erros de preenchimento, por exemplo: \"32/02/2025\"\n",
    "df['Data_Ultima_Falta'] = pd.to_datetime(df['Data_Ultima_Falta'], errors='coerce', dayfirst=True)\n",
    "print(\"Linhas com datas inválidas (convertidas para NaT):\")\n",
    "print(df[df[\"Data_Ultima_Falta\"].isnull()])\n"
   ]
  },
  {
   "cell_type": "code",
   "execution_count": 26,
   "metadata": {},
   "outputs": [
    {
     "name": "stdout",
     "output_type": "stream",
     "text": [
      "0       Quarta-Feira\n",
      "1      Segunda-Feira\n",
      "2      Segunda-Feira\n",
      "3      Segunda-Feira\n",
      "4       Quarta-Feira\n",
      "           ...      \n",
      "219    Segunda-Feira\n",
      "220    Segunda-Feira\n",
      "221    Segunda-Feira\n",
      "222    Segunda-Feira\n",
      "223     Quinta-Feira\n",
      "Name: Dia_da_Semana_Ultima_Falta, Length: 224, dtype: object\n"
     ]
    }
   ],
   "source": [
    "# c) Normalize os nomes dos turnos e dias da semana.\n",
    "df['Turno'] = df['Turno'].str.lower()\n",
    "df['Dia_da_Semana_Ultima_Falta'] = df['Dia_da_Semana_Ultima_Falta'].str.lower() \n",
    "#print(df['Turno'])\n",
    "#print(df['Dia_da_Semana_Ultima_Falta'])\n",
    "\n",
    "df['Turno'] = df['Turno'].str.strip().str.title()\n",
    "df['Dia_da_Semana_Ultima_Falta'] = df['Dia_da_Semana_Ultima_Falta'].str.strip().str.title()\n",
    "#print(df['Turno'])\n",
    "#print(df['Dia_da_Semana_Ultima_Falta'])\n",
    "\n",
    "df['Dia_da_Semana_Ultima_Falta'] = df['Dia_da_Semana_Ultima_Falta'].replace({\n",
    "    'Segunda': 'Segunda-feira',\n",
    "    'Terça': 'Terça-feira',\n",
    "    'Quarta': 'Quarta-feira',\n",
    "    'Quinta': 'Quinta-feira',\n",
    "    'Sexta': 'Sexta-feira'\n",
    "})\n",
    "print(df['Dia_da_Semana_Ultima_Falta'])"
   ]
  },
  {
   "cell_type": "code",
   "execution_count": 27,
   "metadata": {},
   "outputs": [
    {
     "name": "stdout",
     "output_type": "stream",
     "text": [
      "Antes: 224 linhas\n",
      "Depois: 219 linhas\n"
     ]
    }
   ],
   "source": [
    "# Exercício 2 – Remoção e Substituição\n",
    "\n",
    "# a) Remova os registros duplicados.\n",
    "# o df.shape(0) é utlizado para contar quantos registros existem, então fiz antes e depois de aplicar o drop_duplicates()\n",
    "\n",
    "print(\"Antes:\", df.shape[0], \"linhas\")\n",
    "df = df.drop_duplicates()\n",
    "print(\"Depois:\", df.shape[0], \"linhas\")"
   ]
  },
  {
   "cell_type": "code",
   "execution_count": 29,
   "metadata": {},
   "outputs": [
    {
     "name": "stdout",
     "output_type": "stream",
     "text": [
      "Antes:\n",
      "13\n",
      "Depois:\n",
      "0\n"
     ]
    },
    {
     "name": "stderr",
     "output_type": "stream",
     "text": [
      "C:\\Users\\40975512803\\AppData\\Local\\Temp\\ipykernel_11252\\1315221318.py:7: SettingWithCopyWarning: \n",
      "A value is trying to be set on a copy of a slice from a DataFrame.\n",
      "Try using .loc[row_indexer,col_indexer] = value instead\n",
      "\n",
      "See the caveats in the documentation: https://pandas.pydata.org/pandas-docs/stable/user_guide/indexing.html#returning-a-view-versus-a-copy\n",
      "  df['Evadiu'] = df['Evadiu'].fillna('Desconhecido')\n"
     ]
    }
   ],
   "source": [
    "# b) Substitua os valores nulos da coluna Evadiu por “Desconhecido”.\n",
    "\n",
    "print(\"Antes:\")\n",
    "print(df['Evadiu'].isnull().sum())\n",
    "\n",
    "# fillna substitui os valores nulos na coluna por algo definido por você, como no caso: \"Desconhecido\"\n",
    "df['Evadiu'] = df['Evadiu'].fillna('Desconhecido')\n",
    "\n",
    "# A ideia é que depois ele traga valor\n",
    "print(\"Depois:\")\n",
    "print(df['Evadiu'].isnull().sum()) "
   ]
  },
  {
   "cell_type": "code",
   "execution_count": null,
   "metadata": {},
   "outputs": [],
   "source": [
    "# c) Substitua os valores nulos da coluna Data_Ultima_Falta pela data mais comum.\n",
    "\n",
    "data_mais_comum = df['Data_Ultima_Falta'].mode()[0]\n"
   ]
  }
 ],
 "metadata": {
  "kernelspec": {
   "display_name": "Python 3",
   "language": "python",
   "name": "python3"
  },
  "language_info": {
   "codemirror_mode": {
    "name": "ipython",
    "version": 3
   },
   "file_extension": ".py",
   "mimetype": "text/x-python",
   "name": "python",
   "nbconvert_exporter": "python",
   "pygments_lexer": "ipython3",
   "version": "3.12.1"
  }
 },
 "nbformat": 4,
 "nbformat_minor": 2
}
